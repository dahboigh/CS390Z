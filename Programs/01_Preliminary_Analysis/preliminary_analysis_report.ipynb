{
 "cells": [
  {
   "cell_type": "markdown",
   "id": "50a18af9-9355-4187-9ec0-90113b07d479",
   "metadata": {},
   "source": [
    "# Preamble\n",
    "\n",
    "Title: *Health Expenditure and Financing for 2015*\n",
    "\n",
    "Author: *Nicole Weickert*\n",
    "\n",
    "Email: *nweicker@msudenver.edu*\n",
    "\n",
    "Last Update: *2021-10-19*"
   ]
  },
  {
   "cell_type": "markdown",
   "id": "bf5b7fcf-63f5-448a-9b52-b07fd48be0a9",
   "metadata": {
    "tags": []
   },
   "source": [
    "# Introduction\n",
    "\n",
    "This report examines the total amount spent on healthcare in 2015 for 35 countries, measured in [2010 international dollars](https://en.wikipedia.org/wiki/International_dollar). The data were retrieved from [Our World in Data](https://ourworldindata.org/grapher/health-expenditure-and-financing-per-capita?tab=table) and originally published by [Organisation for Economic Co-operation and Development (OECD)](https://stats.oecd.org/)\n",
    "\n"
   ]
  },
  {
   "cell_type": "markdown",
   "id": "baa36161-6454-46d1-851b-d14ad2da38f7",
   "metadata": {
    "tags": []
   },
   "source": [
    "# Dataset\n",
    "The dataset for this report was constructed from information obtained through web scraping techniques at [Health expenditure and Financing (per capita)(OECDstat (2017))](https://ourworldindata.org/grapher/health-expenditure-and-financing-per-capita?tab=table).\n",
    "\n",
    "The values shown are the total amounts each country spent per capita in 2015 on healthcare. The totals include funding from all sources (both out-of-pocket and government spending) for personal health care, public health services, and health administration but do not include investments.  For more details, open the page above and click the \"Sources\" tab."
   ]
  },
  {
   "cell_type": "markdown",
   "id": "5bfddb7f-90cc-40a3-91d9-aeae8ca6f311",
   "metadata": {},
   "source": [
    "The data displayed on the pages at Our World in Data are not stored within that page, but rather retrieved from a json document stored at a separate url. The script below here first identifies the location of the displayed data and then retrieves it as a json dictionary."
   ]
  },
  {
   "cell_type": "code",
   "execution_count": 1,
   "id": "ca68769e-4f04-4f50-929c-6ab3d5f7e200",
   "metadata": {
    "jupyter": {
     "source_hidden": true
    },
    "tags": []
   },
   "outputs": [],
   "source": [
    "import requests\n",
    "from bs4 import BeautifulSoup\n",
    "from urllib.parse import urljoin\n",
    "import json\n",
    "import pandas as pd\n",
    "import matplotlib.pyplot as plt\n",
    "\n",
    "\n",
    "# definitions/parameters\n",
    "year = 2015\n",
    "url = \"https://ourworldindata.org/grapher/health-expenditure-and-financing-per-capita?tab=table\"\n",
    "title = f\"Health Expenditure and Financing for {year}\"\n",
    "x_label = f\"Amount spent per capita\\n(in 2010 international dollars)\"\n",
    "y_label = \"Number of Countries\""
   ]
  },
  {
   "cell_type": "code",
   "execution_count": 2,
   "id": "89c82cfc-7773-48af-8c11-67a579362c70",
   "metadata": {},
   "outputs": [],
   "source": [
    "# Retrieve page data as json\n",
    "response = requests.session().get(url)\n",
    "soup = BeautifulSoup(response.content, \"html.parser\")\n",
    "\n",
    "## Data displayed on page is pulled from another location;\n",
    "## Find the data location and retrieve its contents as json\n",
    "data_relative_link = soup.find(\"link\", {\"as\": \"fetch\"})['href']\n",
    "data_url = urljoin(url, data_relative_link)\n",
    "response = requests.session().get(data_url).content\n",
    "raw_data = json.loads(BeautifulSoup(response, 'html.parser').string)"
   ]
  },
  {
   "cell_type": "markdown",
   "id": "749b91af-e69c-4bc9-87ab-7e096b79801b",
   "metadata": {},
   "source": [
    "# Data Pre-processing\n",
    "Before saving the json to a Pandas DataFrame, some work is needed to remove unneeded information, replace the entity reference codes with the names of the countries, and ensure correct data types."
   ]
  },
  {
   "cell_type": "code",
   "execution_count": 3,
   "id": "c6bda95b-524b-4ae7-993f-4b423b3701ce",
   "metadata": {},
   "outputs": [],
   "source": [
    "# Ready information from json for use in DataFrame\n",
    "entities = raw_data['variables']['1871']['entities']\n",
    "years = raw_data['variables']['1871']['years']\n",
    "values = raw_data['variables']['1871']['values']\n",
    "\n",
    "## Replace entity reference codes with country names\n",
    "for i in range(len(entities)):\n",
    "    key = str(entities[i])\n",
    "    entities[i] = raw_data[\"entityKey\"][key][\"name\"]\n",
    "\n",
    "## Create DataFrame with only records for the specified year\n",
    "df = pd.DataFrame({\"Country\": entities, \"Year\": years, \"Value\": values})\n",
    "df = df.loc[df[\"Year\"] == year, [\"Country\", \"Value\"]]\n",
    "data = df['Value'].astype('float64')"
   ]
  },
  {
   "cell_type": "markdown",
   "id": "22417756-dabb-4b09-8073-2da8f1bd954c",
   "metadata": {},
   "source": [
    "# Summary Statistics\n",
    "Next, it calculates and reports the summary statistics for the dataset.\n"
   ]
  },
  {
   "cell_type": "code",
   "execution_count": 4,
   "id": "993e8573-1f60-401e-8a0c-538d432115fb",
   "metadata": {},
   "outputs": [
    {
     "name": "stdout",
     "output_type": "stream",
     "text": [
      "-- Summary Statistics --\n",
      "Mean: $3470\n",
      "Median: $3627\n",
      "Range: $7758\n",
      "Std Dev: $1766\n",
      "\n",
      "-- Low Outliers --  (Threshold = $-1501)\n",
      "(None)\n",
      "\n",
      "-- High Outliers --  (Threshold = $8049)\n",
      "United States  8714.8975 \n",
      "\n"
     ]
    }
   ],
   "source": [
    "# Calculate and Report Statistics\n",
    "count, mean, std, min, q1, median, q3, max = data.describe()\n",
    "iqr = q3 - q1\n",
    "lower = int(q1 - iqr * 1.5)\n",
    "upper = int(q3 + iqr * 1.5)\n",
    "\n",
    "stats = \"-- Summary Statistics --\\n\"\n",
    "stats += f\"Mean: ${int(mean)}\\n\"\n",
    "stats += f\"Median: ${int(median)}\\n\"\n",
    "stats += f\"Range: ${int(max-min)}\\n\"\n",
    "stats += f\"Std Dev: ${int(std)}\\n\"\n",
    "print(stats)\n",
    "\n",
    "outliers = {\"Low\": [lower, df.loc[df[\"Value\"] < lower]], \"High\": [upper, df.loc[df[\"Value\"] > upper]]}\n",
    "for i in outliers:\n",
    "    results = outliers[i][1]\n",
    "    print(f\"-- {i} Outliers --  (Threshold = ${outliers[i][0]})\")\n",
    "    print(\"(None)\\n\") if len(results) == 0 else print(results.to_string(header=False, index=False), '\\n')"
   ]
  },
  {
   "cell_type": "markdown",
   "id": "56ddaacf-864f-449e-a661-47dfb1bfe91e",
   "metadata": {},
   "source": [
    "# Visualizations\n",
    "Last, it displays a histogram grouping the 35 countries' spending in bins of $1,000 increments and a Box and Whisker Plot to illustrate the summary statistics and outliers."
   ]
  },
  {
   "cell_type": "code",
   "execution_count": 5,
   "id": "bb538d05-65f6-4122-8cdd-bbbe51d24ea0",
   "metadata": {},
   "outputs": [
    {
     "data": {
      "image/png": "[encoded data removed]",
      "text/plain": [
       "<Figure size 432x288 with 1 Axes>"
      ]
     },
     "metadata": {
      "needs_background": "light"
     },
     "output_type": "display_data"
    },
    {
     "data": {
      "image/png": "[encoded data removed]",
      "text/plain": [
       "<Figure size 432x288 with 1 Axes>"
      ]
     },
     "metadata": {
      "needs_background": "light"
     },
     "output_type": "display_data"
    }
   ],
   "source": [
    "# Configure Histogram\n",
    "fig, ax = plt.subplots()\n",
    "bins = list(range(0, 10000, 1000))\n",
    "counts, bins, patches = ax.hist(data, bins=bins, edgecolor='black')\n",
    "ax.set_xticks(bins)\n",
    "plt.title(title)\n",
    "plt.xlabel(x_label)\n",
    "plt.ylabel(y_label)\n",
    "\n",
    "# Configure Box-and-Whisker\n",
    "fig2, ax2 = plt.subplots()\n",
    "ax2.boxplot(data, vert=False)\n",
    "ax2.set_xlabel(x_label)\n",
    "ax2.set(ylabel=None)\n",
    "ax2.set(yticklabels=[])\n",
    "ax2.tick_params(left=False)\n",
    "ax2.set_title(title)\n",
    "\n",
    "plt.show()"
   ]
  }
 ],
 "metadata": {
  "kernelspec": {
   "display_name": "Python 3 (ipykernel)",
   "language": "python",
   "name": "python3"
  },
  "language_info": {
   "codemirror_mode": {
    "name": "ipython",
    "version": 3
   },
   "file_extension": ".py",
   "mimetype": "text/x-python",
   "name": "python",
   "nbconvert_exporter": "python",
   "pygments_lexer": "ipython3",
   "version": "3.9.7"
  }
 },
 "nbformat": 4,
 "nbformat_minor": 5
}
